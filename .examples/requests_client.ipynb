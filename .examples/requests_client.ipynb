{
 "cells": [
  {
   "cell_type": "code",
   "execution_count": 2,
   "metadata": {},
   "outputs": [],
   "source": [
    "import requests\n",
    "\n",
    "header = {\n",
    "        \"Referer\": f\"https://finance.naver.com/item/news.naver?code=001080\",\n",
    "        \"Accept\": \"application/json, text/plain, */*\",\n",
    "    }\n",
    "\n",
    "result = requests.get(\"https://finance.naver.com/item/news.naver?code=001080\", headers=header)"
   ]
  }
 ],
 "metadata": {
  "kernelspec": {
   "display_name": "market-mind-w2CB0e_N-py3.12",
   "language": "python",
   "name": "python3"
  },
  "language_info": {
   "codemirror_mode": {
    "name": "ipython",
    "version": 3
   },
   "file_extension": ".py",
   "mimetype": "text/x-python",
   "name": "python",
   "nbconvert_exporter": "python",
   "pygments_lexer": "ipython3",
   "version": "3.12.7"
  }
 },
 "nbformat": 4,
 "nbformat_minor": 2
}
