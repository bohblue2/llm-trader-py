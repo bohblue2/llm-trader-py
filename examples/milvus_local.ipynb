{
 "cells": [
  {
   "cell_type": "code",
   "execution_count": 6,
   "metadata": {},
   "outputs": [],
   "source": [
    "\n",
    "\n",
    "import os\n",
    "from dataclasses import dataclass\n",
    "from typing import Any, List, Optional\n",
    "\n",
    "from pymilvus import (Collection, CollectionSchema, DataType, FieldSchema,\n",
    "                      MilvusClient, connections, utility)\n",
    "\n",
    "\n",
    "\n",
    "def get_milvus_client(milvus_uri: str = \"\") -> MilvusClient:   \n",
    "    client = MilvusClient(\n",
    "        uri=milvus_uri,\n",
    "        token=os.getenv(\"MILVUS_API_KEY\", \"\")\n",
    "    )\n",
    "    connections.connect(\n",
    "        uri=milvus_uri,\n",
    "        token=os.getenv(\"MILVUS_API_KEY\", \"\")\n",
    "    )\n",
    "    return client"
   ]
  },
  {
   "cell_type": "code",
   "execution_count": 7,
   "metadata": {},
   "outputs": [],
   "source": [
    "client = get_milvus_client(\"http://192.168.219.191:19530\")"
   ]
  },
  {
   "cell_type": "code",
   "execution_count": 5,
   "metadata": {},
   "outputs": [
    {
     "data": {
      "text/plain": [
       "[]"
      ]
     },
     "execution_count": 5,
     "metadata": {},
     "output_type": "execute_result"
    }
   ],
   "source": [
    "client.list_collections()"
   ]
  },
  {
   "cell_type": "code",
   "execution_count": null,
   "metadata": {},
   "outputs": [],
   "source": []
  }
 ],
 "metadata": {
  "kernelspec": {
   "display_name": "market-mind-w2CB0e_N-py3.12",
   "language": "python",
   "name": "python3"
  },
  "language_info": {
   "codemirror_mode": {
    "name": "ipython",
    "version": 3
   },
   "file_extension": ".py",
   "mimetype": "text/x-python",
   "name": "python",
   "nbconvert_exporter": "python",
   "pygments_lexer": "ipython3",
   "version": "3.12.7"
  }
 },
 "nbformat": 4,
 "nbformat_minor": 2
}
