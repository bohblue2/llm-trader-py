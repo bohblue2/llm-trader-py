{
 "cells": [
  {
   "cell_type": "code",
   "execution_count": 1,
   "metadata": {},
   "outputs": [],
   "source": [
    "# 노트북 최상단에 추가\n",
    "import os\n",
    "import sys\n",
    "\n",
    "# 프로젝트 루트 디렉토리 경로를 추가\n",
    "project_root = os.path.abspath(os.path.join(os.getcwd(), '..'))\n",
    "if project_root not in sys.path:\n",
    "    sys.path.append(project_root)"
   ]
  },
  {
   "cell_type": "code",
   "execution_count": 2,
   "metadata": {},
   "outputs": [],
   "source": [
    "from language_backend.constant import DEFAULT_CHUNK_SIZE, DEFAULT_CHUNK_OVERLAP"
   ]
  },
  {
   "cell_type": "code",
   "execution_count": 3,
   "metadata": {},
   "outputs": [],
   "source": [
    "from langchain_teddynote.korean import stopwords\n",
    "from langchain_community.document_loaders import PyMuPDFLoader\n",
    "from langchain.text_splitter import RecursiveCharacterTextSplitter\n",
    "import glob\n"
   ]
  },
  {
   "cell_type": "code",
   "execution_count": 4,
   "metadata": {},
   "outputs": [],
   "source": [
    "# 텍스트 분할\n",
    "text_splitter = RecursiveCharacterTextSplitter(\n",
    "    chunk_size=DEFAULT_CHUNK_SIZE, \n",
    "    chunk_overlap=DEFAULT_CHUNK_OVERLAP\n",
    ")"
   ]
  },
  {
   "cell_type": "code",
   "execution_count": 5,
   "metadata": {},
   "outputs": [],
   "source": [
    "\n",
    "\n",
    "split_docs = []\n",
    "\n",
    "# 텍스트 파일을 load -> List[Document] 형태로 변환\n",
    "files = sorted(glob.glob(\"../datasets/research_report/20241021/industry/*.pdf\"))\n",
    "\n",
    "for file in files:\n",
    "    loader = PyMuPDFLoader(file)\n",
    "    split_docs.extend(loader.load_and_split(text_splitter))"
   ]
  },
  {
   "cell_type": "code",
   "execution_count": 6,
   "metadata": {},
   "outputs": [
    {
     "data": {
      "text/plain": [
       "[Document(metadata={'source': '../datasets/research_report/20241021/industry/20241021_industry_39280000.pdf', 'file_path': '../datasets/research_report/20241021/industry/20241021_industry_39280000.pdf', 'page': 0, 'total_pages': 9, 'format': 'PDF 1.5', 'title': '', 'author': '박혜숙', 'subject': '', 'keywords': '', 'creator': 'Microsoft® Word 2016', 'producer': 'Microsoft® Word 2016', 'creationDate': \"D:20241018164917+09'00'\", 'modDate': \"D:20241018164917+09'00'\", 'trapped': ''}, page_content='2024년 10월 21일 \\n기업분석 \\n \\n \\n \\n더본코리아 (상장예정) \\n물 들어올 때 노 젓는다지만 \\n \\n▶Analyst 한유정 yujung.han@hanwha.com 3772-7693 / RA 이다연dayeon.lee@hanwha.com 3772-7690 \\n더본코리아는? \\n더본코리아는 1994년 설립된 외식 브랜드 운영 기업으로 백종원 대표가 설립한 회사다. 2023년 매출 기준 외식사업 매\\n출이 85.9%로 가장 높은 비중을 차지하고 있다. 외식사업은 프랜차이즈 가맹 사업으로 주요 비즈니스 모델은 가맹본부\\n와 가맹점 간의 가맹 계약에 기반한 사업 모델이다. 2023년 기준 외식 사업 매출액 3,528억원 중 88%가 가맹점포에 식\\n자재를 유통, 판매해 판매대금을 수취하는 상품 및 제품 매출에서 발생되었으며 5%는 가맹비 및 로열티에서 발생되었다.  \\n더본코리아의 경쟁력: 1) 브랜드 확장, 2) 해외 진출'),\n",
       " Document(metadata={'source': '../datasets/research_report/20241021/industry/20241021_industry_39280000.pdf', 'file_path': '../datasets/research_report/20241021/industry/20241021_industry_39280000.pdf', 'page': 0, 'total_pages': 9, 'format': 'PDF 1.5', 'title': '', 'author': '박혜숙', 'subject': '', 'keywords': '', 'creator': 'Microsoft® Word 2016', 'producer': 'Microsoft® Word 2016', 'creationDate': \"D:20241018164917+09'00'\", 'modDate': \"D:20241018164917+09'00'\", 'trapped': ''}, page_content='더본코리아의 경쟁력: 1) 브랜드 확장, 2) 해외 진출 \\n더본코리아의 전략은 Multi-Branding이다. 그간 더본코리아가 국내에서 구축한 강력한 브랜드 파워를 기반으로 상장 후\\n에도 소형화된 신규 브랜드를 계속해 런칭할 계획이다. 현재 수준에서 수익성 개선 가능성은 낮을 것으로 판단되나 브랜\\n드 수평 확장으로 안정적인 외형 및 이익 성장은 가능할 것으로 예상된다. \\n더본코리아는 현재 글로벌 14개국에서 149개의 직가맹점을 운영하고 있다. 그간 개별프랜차이즈 형태로 해외 진출을 진\\n행하였으나 속도감 있는 진행을 위해 현재는 마스터프랜차이즈 형태로 전략을 변경했다. 빠르면 2025년 말부터 변경된 \\n전략 하에 가속화된 신규 출점 성과를 확인할 수 있을 전망이나 현 시점에서 구체적인 전망치는 공유된 바가 없다. \\n더본코리아의 리스크 요인: 규제 \\n2023년 9월 공정거래위원회는 ‘가맹사업 필수품목 제도 개선 방안’을 발표했고, 가맹사업법이 개정되어 2024년 7월부터'),\n",
       " Document(metadata={'source': '../datasets/research_report/20241021/industry/20241021_industry_39280000.pdf', 'file_path': '../datasets/research_report/20241021/industry/20241021_industry_39280000.pdf', 'page': 0, 'total_pages': 9, 'format': 'PDF 1.5', 'title': '', 'author': '박혜숙', 'subject': '', 'keywords': '', 'creator': 'Microsoft® Word 2016', 'producer': 'Microsoft® Word 2016', 'creationDate': \"D:20241018164917+09'00'\", 'modDate': \"D:20241018164917+09'00'\", 'trapped': ''}, page_content='시행되었다. 개정 시행령은 필수품목의 항목 및 공급가격 산정방식을 가맹계약서에 필수기재 사항으로 포함하도록 하고, \\n2024년 12월 5일부터는 필수품목 관련 거래조건을 가맹점주에게 불리하게 변경하는 경우 가맹점주와 협의해야 하며, 그 \\n절차와 필수품목의 세부내역 및 그 거래상대방에 대한 정보를 가맹계약서에 의무 기재 하도록 되어있다. 가맹본부가 가\\n맹점주와 충분한 협의 없이 필수품목 거래조건을 가맹점주에게 불리하게 변경하거나 관련 내용을 계약서에 충분히 명시\\n하지 않고 거래를 강제하면 가맹사업법상 거래상대방을 구속행위로 제재할 수 있게 되었다. 더본코리아의 경우에도 신규 \\n출점 가맹점에 대해서는 2024년 7월부터, 기존 운영점포는 2025년 1월부터 개정된 가맹사업법령이 적용되게 되었다. 이\\n에 가장 높은 비중을 차지하는 외식(가맹) 사업 내 상품 및 제품 매출이 필수품목의 축소 혹은 공급가격 인하로 영향을 \\n받을 수 있다. \\n더본코리아 투자 의견'),\n",
       " Document(metadata={'source': '../datasets/research_report/20241021/industry/20241021_industry_39280000.pdf', 'file_path': '../datasets/research_report/20241021/industry/20241021_industry_39280000.pdf', 'page': 0, 'total_pages': 9, 'format': 'PDF 1.5', 'title': '', 'author': '박혜숙', 'subject': '', 'keywords': '', 'creator': 'Microsoft® Word 2016', 'producer': 'Microsoft® Word 2016', 'creationDate': \"D:20241018164917+09'00'\", 'modDate': \"D:20241018164917+09'00'\", 'trapped': ''}, page_content='받을 수 있다. \\n더본코리아 투자 의견 \\n2021년 이후 현재까지 매년 빽다방의 신규 출점 수는 200개 이상이었다. 빽다방은 더본코리아의 여러 브랜드 중 유일한 \\n카페 브랜드로 본사로부터 상품 및 제품을 공급 받는 공급률이 가장 높은 브랜드로 추정된다. 즉 최근 3년간의 고속 성\\n장에 빽다방의 기여도가 높았을 것으로 판단된다. 국내 4대 저가 커피 브랜드의 가맹점 수는 7,647개에 달한다. 경쟁사 \\n대비 여전히 가맹점 수는 적은 편이나 저가 커피 프랜차이즈의 경쟁이 심화됨에 따라 성장 둔화 가능성을 배제할 수 없\\n다. K-Food 인기 및 더본코리아의 해외 진출 전략 변경에 따른 해외 신규 점포의 폭발적인 출점을 기다릴 뿐이다.'),\n",
       " Document(metadata={'source': '../datasets/research_report/20241021/industry/20241021_industry_39280000.pdf', 'file_path': '../datasets/research_report/20241021/industry/20241021_industry_39280000.pdf', 'page': 1, 'total_pages': 9, 'format': 'PDF 1.5', 'title': '', 'author': '박혜숙', 'subject': '', 'keywords': '', 'creator': 'Microsoft® Word 2016', 'producer': 'Microsoft® Word 2016', 'creationDate': \"D:20241018164917+09'00'\", 'modDate': \"D:20241018164917+09'00'\", 'trapped': ''}, page_content='더본코리아(상장예정) | 물 들어올 때 노 젓는다지만 \\n[한화리서치] \\n \\n \\n \\n2 \\n \\nI. 기업 개요 및 사업 구조 \\n \\n  \\n더본코리아는 1994년 설립된 외식 브랜드 운영 기업으로 백종원 대표가 설립한 회사다. \\n이번 더본코리아의 상장은 신주모집 300만주(공모주 100.0%)의 일반공모 방식에 의한\\n다. 공모 후 기준 백종원 대표의 보유 지분율 60.8% 중 18.2%는 매각제한 기간이 6개\\n월이며, 강석원 대표의 보유 지분율 전량인 14.4%도 매각제한 기간은 6개월이다.  \\n2023년 매출 기준 외식사업 매출이 85.9%로 가장 높은 비중을 차지하고 있다. 현재 보\\n유 브랜드는 빽다방, 홍콩반점, 빽보이피자, 역전우동 등 25개이며 가맹점포수는 2,917\\n개이다. 외식사업 외에는 유통사업 11.2%, 호텔사업 2.2%, 기타사업 0.2% 매출이 뒤를 \\n잇고 있다.  \\n \\n[표1] \\n공모 후 유통 가능 주식 현황 \\n구분 \\n주주명 \\n회사와의 \\n관계 \\n공모 전 \\n공모 후'),\n",
       " Document(metadata={'source': '../datasets/research_report/20241021/industry/20241021_industry_39280000.pdf', 'file_path': '../datasets/research_report/20241021/industry/20241021_industry_39280000.pdf', 'page': 1, 'total_pages': 9, 'format': 'PDF 1.5', 'title': '', 'author': '박혜숙', 'subject': '', 'keywords': '', 'creator': 'Microsoft® Word 2016', 'producer': 'Microsoft® Word 2016', 'creationDate': \"D:20241018164917+09'00'\", 'modDate': \"D:20241018164917+09'00'\", 'trapped': ''}, page_content='공모 후 유통 가능 주식 현황 \\n구분 \\n주주명 \\n회사와의 \\n관계 \\n공모 전 \\n공모 후 \\n보유 주식 \\n보유주식 \\n매각제한 물량 \\n유통가능 물량 \\n매각제한기간 \\n(상장일로부터) \\n주식수 \\n지분율 \\n주식수 \\n지분율 \\n주식수 \\n지분율 \\n주식수 \\n지분율 \\n최대주주등 \\n백종원 \\n최대주주 \\n8,792,850 \\n76.69% \\n8,792,850 \\n60.78% \\n6,154,995 \\n42.55% \\n- \\n- \\n2년 6개월 \\n2,637,855 \\n18.23% \\n- \\n- \\n6개월 \\n강석원 \\n등기임원 \\n2,076,660 \\n18.11% \\n2,076,660 \\n14.36% \\n2,076,660 \\n14.36% \\n- \\n- \\n6개월 \\n박준상 \\n특수관계인 \\n40,920 \\n0.36% \\n40,920 \\n0.28% \\n40,920 \\n0.28% \\n- \\n- \\n6개월 \\n소계 \\n10,910,430 \\n95.15% \\n10,910,430 \\n75.42% \\n10,910,430 \\n75.42% \\n \\n- \\n- \\n1% 이상 \\n소유주주'),\n",
       " Document(metadata={'source': '../datasets/research_report/20241021/industry/20241021_industry_39280000.pdf', 'file_path': '../datasets/research_report/20241021/industry/20241021_industry_39280000.pdf', 'page': 1, 'total_pages': 9, 'format': 'PDF 1.5', 'title': '', 'author': '박혜숙', 'subject': '', 'keywords': '', 'creator': 'Microsoft® Word 2016', 'producer': 'Microsoft® Word 2016', 'creationDate': \"D:20241018164917+09'00'\", 'modDate': \"D:20241018164917+09'00'\", 'trapped': ''}, page_content='75.42% \\n10,910,430 \\n75.42% \\n \\n- \\n- \\n1% 이상 \\n소유주주 \\n일반투자자(2 인) \\n231,000 \\n2.01% \\n231,000 \\n1.60% \\n- \\n- \\n231,000 \\n1.60% \\n- \\n소계 \\n231,000 \\n2.01% \\n231,000 \\n1.60% \\n- \\n- \\n231,000 \\n1.60% \\n- \\n1% 미만 \\n소유주주 \\n일반투자자(8 인) \\n214,200 \\n1.87% \\n214,200 \\n1.48% \\n- \\n- \\n214,200 \\n1.48% \\n- \\n일반투자자(12인) \\n110,400 \\n0.96% \\n110,400 \\n0.76% \\n110,400 \\n0.76% \\n \\n \\n6개월 \\n소계 \\n324,600 \\n2.83% \\n324,600 \\n2.24% \\n110,400 \\n0.76% \\n214,200 \\n1.48% \\n- \\n공모주식 \\n공모주주 \\n- \\n- \\n2,400,000 \\n16.59% \\n- \\n- \\n2,400,000 \\n16.59% \\n- \\n우리사주조합 \\n- \\n- \\n600,000 \\n4.15%'),\n",
       " Document(metadata={'source': '../datasets/research_report/20241021/industry/20241021_industry_39280000.pdf', 'file_path': '../datasets/research_report/20241021/industry/20241021_industry_39280000.pdf', 'page': 1, 'total_pages': 9, 'format': 'PDF 1.5', 'title': '', 'author': '박혜숙', 'subject': '', 'keywords': '', 'creator': 'Microsoft® Word 2016', 'producer': 'Microsoft® Word 2016', 'creationDate': \"D:20241018164917+09'00'\", 'modDate': \"D:20241018164917+09'00'\", 'trapped': ''}, page_content='16.59% \\n- \\n우리사주조합 \\n- \\n- \\n600,000 \\n4.15% \\n600,000 \\n4.15% \\n \\n \\n1년 \\n소계 \\n- \\n- \\n3,000,000 \\n20.74% \\n600,000 \\n4.15% \\n2,400,000 \\n16.59% \\n- \\n합계 \\n11,466,030 \\n100.00% \\n14,466,030 \\n100.00% \\n11,620,830 \\n80.33% \\n2,845,200 \\n19.67% \\n \\n- \\n \\n자료: Dart, 한화투자증권 리서치센터 \\n \\n \\n[표2] \\n더본코리아 사업 영역 \\n \\n사업영역 \\n내용 \\n2023년 매출 비중 \\n외식사업 \\n총 25개의 자체개발 외식 브랜드에 대한 국내외 직영점 및 가맹점 사업 \\n85.9% \\n유통사업 \\n자체개발 외식 브랜드 등을 활용해 간편식(HMR), 소스 등을제조/판매하는 사업 \\n11.2% \\n호텔사업 \\n호텔더본제주 운영 사업 \\n2.2% \\n기타사업 \\n군/도 등의 단위 지역 메뉴개발, 요식업 교육, 시장 운영방안 컨설팅, 축제 활성화 및'),\n",
       " Document(metadata={'source': '../datasets/research_report/20241021/industry/20241021_industry_39280000.pdf', 'file_path': '../datasets/research_report/20241021/industry/20241021_industry_39280000.pdf', 'page': 1, 'total_pages': 9, 'format': 'PDF 1.5', 'title': '', 'author': '박혜숙', 'subject': '', 'keywords': '', 'creator': 'Microsoft® Word 2016', 'producer': 'Microsoft® Word 2016', 'creationDate': \"D:20241018164917+09'00'\", 'modDate': \"D:20241018164917+09'00'\", 'trapped': ''}, page_content='군/도 등의 단위 지역 메뉴개발, 요식업 교육, 시장 운영방안 컨설팅, 축제 활성화 및 \\n식료품 공급 등\\r 영위하는 사업 \\n0.7% \\n \\n \\n자료: Dart, 한화투자증권 리서치센터'),\n",
       " Document(metadata={'source': '../datasets/research_report/20241021/industry/20241021_industry_39280000.pdf', 'file_path': '../datasets/research_report/20241021/industry/20241021_industry_39280000.pdf', 'page': 2, 'total_pages': 9, 'format': 'PDF 1.5', 'title': '', 'author': '박혜숙', 'subject': '', 'keywords': '', 'creator': 'Microsoft® Word 2016', 'producer': 'Microsoft® Word 2016', 'creationDate': \"D:20241018164917+09'00'\", 'modDate': \"D:20241018164917+09'00'\", 'trapped': ''}, page_content='더본코리아(상장예정) | 물 들어올 때 노 젓는다지만 \\n[한화리서치] \\n \\n \\n \\n3 \\n  \\n핵심 사업인 외식사업은 프랜차이즈 가맹 사업으로 주요 비즈니스 모델은 가맹본부와 \\n가맹점 간의 가맹 계약에 기반한 사업 모델이다. 2023년 기준 외식 사업 매출액 3,528\\n억원 중 88%가 가맹점포에 식자재를 유통, 판매해 판매대금을 수취하는 상품 및 제품 \\n매출에서 발생되었으며 5%는 가맹비 및 로열티, 7%는 직영점에서 매출이 발생되었다. \\n참고로 2023년 외식 사업 내 브랜드별 매출 비중은 41%는 빽다방, 16%는 홍콩반점, \\n7%는 롤링파스타였다. \\n \\n[그림1] \\n외식사업 매출 및 가맹점 추이 \\n \\n[그림2] \\n국내 주요 저가커피브랜드 가맹점 수 추이 \\n \\n \\n \\n자료: 더본코리아, 한화투자증권 리서치센터 \\n \\n자료: 공정거래위원회, 한화투자증권 리서치센터 \\n \\n [표3] \\n더본코리아 외식(가맹) 사업구조 \\n \\n구분 \\n항목 \\n내용 \\n비고 \\n가맹점 \\n신규 오픈 \\n가맹비'),\n",
       " Document(metadata={'source': '../datasets/research_report/20241021/industry/20241021_industry_39280000.pdf', 'file_path': '../datasets/research_report/20241021/industry/20241021_industry_39280000.pdf', 'page': 2, 'total_pages': 9, 'format': 'PDF 1.5', 'title': '', 'author': '박혜숙', 'subject': '', 'keywords': '', 'creator': 'Microsoft® Word 2016', 'producer': 'Microsoft® Word 2016', 'creationDate': \"D:20241018164917+09'00'\", 'modDate': \"D:20241018164917+09'00'\", 'trapped': ''}, page_content='구분 \\n항목 \\n내용 \\n비고 \\n가맹점 \\n신규 오픈 \\n가맹비 \\n가맹본부의 상호, 상표, 제조 레시피 / 제조 매뉴얼 사용 및 가맹점 운영에 필요한 지원에 대한 대가 \\n1회성 \\n교육비 \\n가맹점 오픈 및 가맹점 운영에 필요한 교육 일체 (QSC교육, 위생, 노무, 인사, 점포운영, 실습교육 등) \\n개점 진행비 \\n신규 가맹점 개설을 위해 창업자 상담, 현장 조사, 가맹계약 체결 진행 등의 대가 비용 \\n가맹점 \\n운영 중 부담 \\n물품 구입비 \\n당사 물품 발주 시스템(OMS)에서 물품 구입 대가 \\n정기 \\n로열티 \\n매월 일정 금액을 정기적으로 납부하는 고정로열티, 매월 POS매출액의 일정부분을 납부하는 러닝로열티 \\n정기 \\n \\n 자료: Dart, 한화투자증권 리서치센터 \\n \\n [표4] \\n더본코리아 주요 외식 브랜드별 매출액(2024 년 상반기 기준) \\n \\n \\n총 매출액 \\n가맹사업 \\n매출액(A~F) \\n빽다방(A) \\n홍콩반점(B) \\n롤링파스타(C) \\n역전우동(D) \\n빽보이피자(E) \\n기타(F)'),\n",
       " Document(metadata={'source': '../datasets/research_report/20241021/industry/20241021_industry_39280000.pdf', 'file_path': '../datasets/research_report/20241021/industry/20241021_industry_39280000.pdf', 'page': 2, 'total_pages': 9, 'format': 'PDF 1.5', 'title': '', 'author': '박혜숙', 'subject': '', 'keywords': '', 'creator': 'Microsoft® Word 2016', 'producer': 'Microsoft® Word 2016', 'creationDate': \"D:20241018164917+09'00'\", 'modDate': \"D:20241018164917+09'00'\", 'trapped': ''}, page_content='홍콩반점(B) \\n롤링파스타(C) \\n역전우동(D) \\n빽보이피자(E) \\n기타(F) \\n매출액 \\n2,113 \\n1,771 \\n789 \\n269 \\n122 \\n114 \\n112 \\n365 \\n비중 \\n100.0% \\n83.8% \\n37.3% \\n12.7% \\n5.8% \\n5.4% \\n5.3% \\n17.3% \\n \\n \\n주1: 기타는 주요 5개 외식 브랜드를 제외한 20개 외식 브랜드 매출의 합계, 주2: K-IFRS 별도재무제표 기준 \\n자료: Dart, 한화투자증권 리서치센터 \\n \\n \\n1,339 \\n2,089 \\n3,109 \\n1,651 \\n103\\n131\\n168\\n93\\n253\\n286\\n252\\n126\\n2,035 \\n2,504 \\n2,785 \\n2,917 \\n0\\n500\\n1,000\\n1,500\\n2,000\\n2,500\\n3,000\\n3,500\\n0\\n500\\n1,000\\n1,500\\n2,000\\n2,500\\n3,000\\n3,500\\n4,000\\n2021\\n2022\\n2023\\n1H24\\n(개)\\n(억원)\\n상품및제품\\n가맹비및로열티\\n직영점및기타\\n가맹점포수(우)\\n721 \\n971'),\n",
       " Document(metadata={'source': '../datasets/research_report/20241021/industry/20241021_industry_39280000.pdf', 'file_path': '../datasets/research_report/20241021/industry/20241021_industry_39280000.pdf', 'page': 2, 'total_pages': 9, 'format': 'PDF 1.5', 'title': '', 'author': '박혜숙', 'subject': '', 'keywords': '', 'creator': 'Microsoft® Word 2016', 'producer': 'Microsoft® Word 2016', 'creationDate': \"D:20241018164917+09'00'\", 'modDate': \"D:20241018164917+09'00'\", 'trapped': ''}, page_content='(개)\\n(억원)\\n상품및제품\\n가맹비및로열티\\n직영점및기타\\n가맹점포수(우)\\n721 \\n971 \\n1,228 \\n1,449 \\n1,184 \\n1,593 \\n2,156 \\n2,709 \\n725 \\n1,285 \\n1,901 \\n2,360 \\n504 \\n756 \\n993 \\n1,129 \\n0\\n1,000\\n2,000\\n3,000\\n4,000\\n5,000\\n6,000\\n7,000\\n8,000\\n9,000\\n2020\\n2021\\n2022\\n2023\\n(개)\\n빽다방\\n메가엠지씨커피\\n컴포즈커피\\n더벤티'),\n",
       " Document(metadata={'source': '../datasets/research_report/20241021/industry/20241021_industry_39280000.pdf', 'file_path': '../datasets/research_report/20241021/industry/20241021_industry_39280000.pdf', 'page': 3, 'total_pages': 9, 'format': 'PDF 1.5', 'title': '', 'author': '박혜숙', 'subject': '', 'keywords': '', 'creator': 'Microsoft® Word 2016', 'producer': 'Microsoft® Word 2016', 'creationDate': \"D:20241018164917+09'00'\", 'modDate': \"D:20241018164917+09'00'\", 'trapped': ''}, page_content='더본코리아(상장예정) | 물 들어올 때 노 젓는다지만 \\n[한화리서치] \\n \\n \\n \\n4 \\n \\nII. 경쟁력 및 성장 가능성 \\n \\n1) 외식 사업의 \\n안정적 확장 \\n \\n오래 전부터 이어온 더본코리아의 외식(가맹)사업의 차별화는 Multi-Branding 전략이\\n었다. 친숙한 메뉴와 비교적 저렴한 가격대로 중소형 매장을 중심으로 빠른 확장성을 \\n보여왔으며 대중적인 인기를 끌고 있다. Multi-Branding 전략 하에 그간 더본코리아가 \\n국내에서 구축한 강력한 브랜드 파워를 기반으로 상장 후에도 소형화된 신규 브랜드를 \\n계속해 런칭할 계획이다. 과거와 달리 소비자들의 브랜드 충성도가 낮아진 까닭이다. 현\\n재 수준에서 수익성 개선 가능성은 낮을 것으로 판단되나 브랜드 수평 확장으로 안정적\\n인 외형 및 이익 성장은 가능할 것으로 예상된다. \\n \\n \\n[그림3] \\n더본코리아 주요 브랜드 \\n \\n \\n \\n자료: 더본코리아, 한화투자증권 리서치센터 \\n \\n [표5] \\n외식 가맹사업 주요 경쟁업체 비교'),\n",
       " Document(metadata={'source': '../datasets/research_report/20241021/industry/20241021_industry_39280000.pdf', 'file_path': '../datasets/research_report/20241021/industry/20241021_industry_39280000.pdf', 'page': 3, 'total_pages': 9, 'format': 'PDF 1.5', 'title': '', 'author': '박혜숙', 'subject': '', 'keywords': '', 'creator': 'Microsoft® Word 2016', 'producer': 'Microsoft® Word 2016', 'creationDate': \"D:20241018164917+09'00'\", 'modDate': \"D:20241018164917+09'00'\", 'trapped': ''}, page_content='[표5] \\n외식 가맹사업 주요 경쟁업체 비교 \\n \\n(단위: 억원) \\n더본코리아 \\n앤하우스(메가커피) \\n컴포즈커피 \\n2021 \\n2022 \\n2023 \\n2021 \\n2022 \\n2023 \\n2021 \\n2022 \\n2023 \\n매출액 \\n1,765  \\n2,633  \\n3,881  \\n879  \\n1,748  \\n3,684  \\n- \\n738  \\n889  \\n매출원가율 \\n56.2% \\n60.8% \\n67.2% \\n37.3% \\n64.2% \\n61.5% \\n- \\n52.7% \\n43.9% \\n영업이익 \\n170  \\n233  \\n239  \\n422  \\n310  \\n694  \\n- \\n250  \\n367  \\n영업이익률 \\n9.6% \\n8.9% \\n6.2% \\n48.1% \\n17.7% \\n18.8% \\n- \\n33.8% \\n41.3% \\n당기순이익 \\n95  \\n143  \\n193  \\n338  \\n410  \\n564  \\n- \\n181  \\n168  \\n순이익률 \\n5.4% \\n5.4% \\n5.0% \\n38.5% \\n23.5% \\n15.3% \\n- \\n24.6% \\n18.9% \\n매출비중'),\n",
       " Document(metadata={'source': '../datasets/research_report/20241021/industry/20241021_industry_39280000.pdf', 'file_path': '../datasets/research_report/20241021/industry/20241021_industry_39280000.pdf', 'page': 3, 'total_pages': 9, 'format': 'PDF 1.5', 'title': '', 'author': '박혜숙', 'subject': '', 'keywords': '', 'creator': 'Microsoft® Word 2016', 'producer': 'Microsoft® Word 2016', 'creationDate': \"D:20241018164917+09'00'\", 'modDate': \"D:20241018164917+09'00'\", 'trapped': ''}, page_content='5.0% \\n38.5% \\n23.5% \\n15.3% \\n- \\n24.6% \\n18.9% \\n매출비중 \\n가맹 85%, 유통 12%, 호텔 2%, 기타 1% \\n가맹 \\n가맹 \\n설립일 \\n1994/01/21 \\n2010/11/30 \\n2021/10/08 \\n \\n \\n주1: 주요 제품 매출 비중은 2023년 기준, 주2: 앤하우스 및 컴포즈커피의 구체적인 매출비중은 파악에 한계가 있어 영위 중인 사업만 기재되어 있음 \\n주3: K-IFRS 별도재무제표 기준 \\n자료: Dart, 한화투자증권 리서치센터'),\n",
       " Document(metadata={'source': '../datasets/research_report/20241021/industry/20241021_industry_39280000.pdf', 'file_path': '../datasets/research_report/20241021/industry/20241021_industry_39280000.pdf', 'page': 4, 'total_pages': 9, 'format': 'PDF 1.5', 'title': '', 'author': '박혜숙', 'subject': '', 'keywords': '', 'creator': 'Microsoft® Word 2016', 'producer': 'Microsoft® Word 2016', 'creationDate': \"D:20241018164917+09'00'\", 'modDate': \"D:20241018164917+09'00'\", 'trapped': ''}, page_content='더본코리아(상장예정) | 물 들어올 때 노 젓는다지만 \\n[한화리서치] \\n \\n \\n \\n5 \\n2) 해외 시장 진출  \\n더본코리아는 현재 글로벌 14개국에서 149개의 직가맹점을 운영하고 있다. 그간 개별\\n프랜차이즈 형태로 해외 진출을 진행하였으나 속도감 있는 진행을 위해 현재는 마스터\\n프랜차이즈 형태로 전략을 변경했다. 빠르면 2025년 말부터 변경된 전략 하에 가속화된 \\n신규 출점 성과를 확인할 수 있을 전망이나 현 시점에서 구체적인 전망치는 공유된 바\\n가 없다.  \\n \\n \\n \\n[그림4] \\n더본코리아 외식사업 해외진출 현황 \\n \\n \\n \\n자료: 더본코리아, 한화투자증권 리서치센터 \\n \\n \\n \\n[표6] \\n해외 프랜차이즈 진출형태 \\n \\n진출형태 \\n내용 \\n직영 법인 \\n프랜차이즈 기업이 직접 가맹점을 소유하고 운영하는 방식으로, 가맹점 운영과 관리, 직원 교육, \\n마케팅 전략은 프랜차이즈 기업이 주도 \\n개별프랜차이즈'),\n",
       " Document(metadata={'source': '../datasets/research_report/20241021/industry/20241021_industry_39280000.pdf', 'file_path': '../datasets/research_report/20241021/industry/20241021_industry_39280000.pdf', 'page': 4, 'total_pages': 9, 'format': 'PDF 1.5', 'title': '', 'author': '박혜숙', 'subject': '', 'keywords': '', 'creator': 'Microsoft® Word 2016', 'producer': 'Microsoft® Word 2016', 'creationDate': \"D:20241018164917+09'00'\", 'modDate': \"D:20241018164917+09'00'\", 'trapped': ''}, page_content='마케팅 전략은 프랜차이즈 기업이 주도 \\n개별프랜차이즈 \\n개별 사업자나 법인이 프랜차이즈 기업의 브랜드 이름을 사용하여 자신의 가맹점을 운영하는 \\n방식으로, 각 사업자가 사업 운영 전략을 주도 \\n마스터프랜차이즈 \\n현지 파트너에게 당사의 프랜차이즈 시스템과 비즈니스 컨셉을 사용하여 매장을 운영하거나 \\n가맹점을 모집할 수 있는 독점사업권을 부여하는 방식 \\n \\n \\n자료: Dart, 한화투자증권 리서치센터'),\n",
       " Document(metadata={'source': '../datasets/research_report/20241021/industry/20241021_industry_39280000.pdf', 'file_path': '../datasets/research_report/20241021/industry/20241021_industry_39280000.pdf', 'page': 5, 'total_pages': 9, 'format': 'PDF 1.5', 'title': '', 'author': '박혜숙', 'subject': '', 'keywords': '', 'creator': 'Microsoft® Word 2016', 'producer': 'Microsoft® Word 2016', 'creationDate': \"D:20241018164917+09'00'\", 'modDate': \"D:20241018164917+09'00'\", 'trapped': ''}, page_content='더본코리아(상장예정) | 물 들어올 때 노 젓는다지만 \\n[한화리서치] \\n \\n \\n \\n6 \\n \\nIII. 리스크 요인 \\n \\n리스크 요인: 규제  \\n더본코리아의 핵심 사업은 외식 브랜드 프랜차이즈 사업이다. 이에 각종 법률 개정과 \\n규제가 가장 치명적인 리스크 요인이다. 국내 일부 프랜차이즈의 가맹본부가 필수품목\\n을 과도하게 지정하고 일방적으로 가격을 높인다는 지적이 이어짐에 따라 2023년 9월 \\n공정거래위원회는 ‘가맹사업 필수품목 제도 개선 방안’을 발표했다. 이후 가맹사업법이 \\n개정되어 2024년 7월부터 시행되었다. 개정 시행령은 필수품목의 항목 및 공급가격 산\\n정방식을 가맹계약서에 필수기재 사항으로 포함하도록 하고, 2024년 12월 5일부터는 \\n필수품목 관련 거래조건을 가맹점주에게 불리하게 변경하는 경우 가맹점주와 협의해야 \\n하며, 그 절차와 필수품목의 세부내역 및 그 거래상대방에 대한 정보를 가맹계약서에'),\n",
       " Document(metadata={'source': '../datasets/research_report/20241021/industry/20241021_industry_39280000.pdf', 'file_path': '../datasets/research_report/20241021/industry/20241021_industry_39280000.pdf', 'page': 5, 'total_pages': 9, 'format': 'PDF 1.5', 'title': '', 'author': '박혜숙', 'subject': '', 'keywords': '', 'creator': 'Microsoft® Word 2016', 'producer': 'Microsoft® Word 2016', 'creationDate': \"D:20241018164917+09'00'\", 'modDate': \"D:20241018164917+09'00'\", 'trapped': ''}, page_content='하며, 그 절차와 필수품목의 세부내역 및 그 거래상대방에 대한 정보를 가맹계약서에 \\n의무 기재 하도록 되어있다. 가맹본부가 가맹점주와 충분한 협의 없이 필수품목 거래조\\n건을 가맹점주에게 불리하게 변경하거나 관련 내용을 계약서에 충분히 명시하지 않고 \\n거래를 강제하면 가맹사업법상 거래상대방을 구속행위로 제재할 수 있게 되었다.  \\n더본코리아의 경우에도 신규 출점 가맹점에 대해서는 2024년 7월부터, 기존 운영점포\\n는 2025년 1월부터 개정된 가맹사업법령이 적용되게 되었다. 이에 가장 높은 비중을 차\\n지하는 외식(가맹) 사업 내 상품 및 제품 매출이 필수품목의 축소 혹은 공급가격 인하\\n로 영향을 받을 수 있다.'),\n",
       " Document(metadata={'source': '../datasets/research_report/20241021/industry/20241021_industry_39280000.pdf', 'file_path': '../datasets/research_report/20241021/industry/20241021_industry_39280000.pdf', 'page': 6, 'total_pages': 9, 'format': 'PDF 1.5', 'title': '', 'author': '박혜숙', 'subject': '', 'keywords': '', 'creator': 'Microsoft® Word 2016', 'producer': 'Microsoft® Word 2016', 'creationDate': \"D:20241018164917+09'00'\", 'modDate': \"D:20241018164917+09'00'\", 'trapped': ''}, page_content='더본코리아(상장예정) | 물 들어올 때 노 젓는다지만 \\n[한화리서치] \\n \\n \\n \\n7 \\n \\nIV. 공모개요 및 투자의견 \\n \\n공모개요  \\n2023년 하반기 순이익은 129억원, 2024년 상반기 순이익은 130억원이나 임직원에게 \\n주식매수선택권을 부여함에 따라 관련 비용 각각 27억원, 13억원이 반영된 수치다. 주\\n식매수선택권 관련 비용 감안 시 2023년 하반기 순이익은 156억원, 2024년 반기 순이\\n익은 143억원이다. 2024년 반기 기준 최근 4개 분기의 순이익인 299억원에 Target \\nPER 15.8배가 적용되었으며 평가액 대비 할인율은 8.09~24.50%로 적용되었다. \\n \\n \\n \\n[표7] \\n더본코리아 공모개요 및 공모일정 \\n \\n공모개요 \\n내용 \\n공모주식수 \\n3,000,000주(100% 신주) \\n상장예정 주식수 \\n14,466,030주 \\n공모예정가 \\n23,000원~28,000원 \\n예상 시가총액 \\n3,327억원~4,050억원 \\n공모일정 \\n내용 \\n증권신고서 제출일'),\n",
       " Document(metadata={'source': '../datasets/research_report/20241021/industry/20241021_industry_39280000.pdf', 'file_path': '../datasets/research_report/20241021/industry/20241021_industry_39280000.pdf', 'page': 6, 'total_pages': 9, 'format': 'PDF 1.5', 'title': '', 'author': '박혜숙', 'subject': '', 'keywords': '', 'creator': 'Microsoft® Word 2016', 'producer': 'Microsoft® Word 2016', 'creationDate': \"D:20241018164917+09'00'\", 'modDate': \"D:20241018164917+09'00'\", 'trapped': ''}, page_content='예상 시가총액 \\n3,327억원~4,050억원 \\n공모일정 \\n내용 \\n증권신고서 제출일 \\n2024년 09월 27일(금) \\n수요 예측일 \\n2024년 10월 18일(금)~24일(목) \\n청약 예정일 \\n2024년 10월 28일(월)~29일(화) \\n상장 예정일 \\n2024년 11월 06일 \\n \\n \\n자료: Dart, 한화투자증권 리서치센터'),\n",
       " Document(metadata={'source': '../datasets/research_report/20241021/industry/20241021_industry_39280000.pdf', 'file_path': '../datasets/research_report/20241021/industry/20241021_industry_39280000.pdf', 'page': 7, 'total_pages': 9, 'format': 'PDF 1.5', 'title': '', 'author': '박혜숙', 'subject': '', 'keywords': '', 'creator': 'Microsoft® Word 2016', 'producer': 'Microsoft® Word 2016', 'creationDate': \"D:20241018164917+09'00'\", 'modDate': \"D:20241018164917+09'00'\", 'trapped': ''}, page_content='더본코리아(상장예정) | 물 들어올 때 노 젓는다지만 \\n[한화리서치] \\n \\n \\n \\n8 \\n투자의견  \\n2021년 이후 현재까지 매년 빽다방의 신규 출점 수는 200개 이상이었다. 빽다방은 더\\n본코리아의 여러 브랜드 중 유일한 카페 브랜드로 본사로부터 상품 및 제품을 공급 받\\n는 공급률이 가장 높은 브랜드로 추정된다. 즉 최근 3년간의 고속 성장에 빽다방의 기\\n여도가 높았을 것으로 판단된다. 공정거래위원회 자료에 따르면 2023년 기준 국내 4대 \\n저가 커피 브랜드의 가맹점 수는 7,647개에 달한다. 경쟁사 대비 여전히 가맹점 수는 \\n적은 편이나 저가 커피 프랜차이즈의 경쟁이 심화됨에 따라 성장 둔화 가능성을 배제할 \\n수 없다. K-Food 인기 및 더본코리아의 해외 진출 전략 변경에 따른 해외 신규 점포의 \\n폭발적인 출점을 기다릴 뿐이다. \\n \\n \\n[그림5] \\n기말 기준 빽다방 점포 수 \\n \\n[그림6] \\n국내 주요 저가커피브랜드 가맹점 수 추이'),\n",
       " Document(metadata={'source': '../datasets/research_report/20241021/industry/20241021_industry_39280000.pdf', 'file_path': '../datasets/research_report/20241021/industry/20241021_industry_39280000.pdf', 'page': 7, 'total_pages': 9, 'format': 'PDF 1.5', 'title': '', 'author': '박혜숙', 'subject': '', 'keywords': '', 'creator': 'Microsoft® Word 2016', 'producer': 'Microsoft® Word 2016', 'creationDate': \"D:20241018164917+09'00'\", 'modDate': \"D:20241018164917+09'00'\", 'trapped': ''}, page_content='[그림6] \\n국내 주요 저가커피브랜드 가맹점 수 추이 \\n \\n \\n \\n자료: 더본코리아, 한화투자증권 리서치센터 \\n \\n자료: 공정거래위원회, 한화투자증권 리서치센터 \\n \\n \\n \\n971 \\n1,228 \\n1,449 \\n1,594 \\n0\\n200\\n400\\n600\\n800\\n1,000\\n1,200\\n1,400\\n1,600\\n1,800\\n2021\\n2022\\n2023\\n1H24\\n(개)\\n721 \\n971 \\n1,228 \\n1,449 \\n1,184 \\n1,593 \\n2,156 \\n2,709 \\n725 \\n1,285 \\n1,901 \\n2,360 \\n504 \\n756 \\n993 \\n1,129 \\n0\\n1,000\\n2,000\\n3,000\\n4,000\\n5,000\\n6,000\\n7,000\\n8,000\\n9,000\\n2020\\n2021\\n2022\\n2023\\n(개)\\n빽다방\\n메가엠지씨커피\\n컴포즈커피\\n더벤티'),\n",
       " Document(metadata={'source': '../datasets/research_report/20241021/industry/20241021_industry_39280000.pdf', 'file_path': '../datasets/research_report/20241021/industry/20241021_industry_39280000.pdf', 'page': 8, 'total_pages': 9, 'format': 'PDF 1.5', 'title': '', 'author': '박혜숙', 'subject': '', 'keywords': '', 'creator': 'Microsoft® Word 2016', 'producer': 'Microsoft® Word 2016', 'creationDate': \"D:20241018164917+09'00'\", 'modDate': \"D:20241018164917+09'00'\", 'trapped': ''}, page_content='더본코리아(상장예정) | 물 들어올 때 노 젓는다지만 \\n[한화리서치] \\n \\n \\n \\n9 \\n[ Compliance Notice ] \\n(공표일: 2024년 10 월 21 일) \\n이 자료는 조사분석 담당자가 객관적 사실에 근거해 작성하였으며, 타인의 부당한 압력이나 간섭없이 본인의 의견을 정확하게 \\n반영했습니다. 본인은 이 자료에서 다룬 종목과 관련해 공표일 현재 관련 법규상 알려야 할 재산적 이해관계가 없습니다. 본인은 이 \\n자료를 기관투자자 또는 제3 자에게 사전에 제공한 사실이 없습니다. (한유정, 이다연) \\n저희 회사는 공표일 현재 이 자료에서 다룬 종목의 발행주식을 1% 이상 보유하고 있지 않습니다. \\n이 자료는 투자자의 증권투자를 돕기 위해 당사 고객에 한하여 배포되는 자료로서 저작권이 당사에 있으며 불법 복제 및 배포를 금\\n합니다. 이 자료에 수록된 내용은 당사 리서치센터가 신뢰할 만한 자료나 정보출처로부터 얻은 것이지만, 당사는 그 정확성이나 완'),\n",
       " Document(metadata={'source': '../datasets/research_report/20241021/industry/20241021_industry_39280000.pdf', 'file_path': '../datasets/research_report/20241021/industry/20241021_industry_39280000.pdf', 'page': 8, 'total_pages': 9, 'format': 'PDF 1.5', 'title': '', 'author': '박혜숙', 'subject': '', 'keywords': '', 'creator': 'Microsoft® Word 2016', 'producer': 'Microsoft® Word 2016', 'creationDate': \"D:20241018164917+09'00'\", 'modDate': \"D:20241018164917+09'00'\", 'trapped': ''}, page_content='전성을 보장할 수 없습니다. 따라서 이 자료는 어떠한 경우에도 고객의 증권투자 결과와 관련된 법적 책임소재에 대한 증빙으로 사\\n용될 수 없습니다. \\n \\n [ 종목 투자등급 ] \\n당사는 개별 종목에 대해 향후 1년간 +15% 이상의 절대수익률이 기대되는 종목에 대해 Buy(매수) 의견을 제시합니다. 또한 절대수\\n익률 -15~+15%가 예상되는 종목에 대해 Hold(보유) 의견을, -15% 이하가 예상되는 종목에 대해 Sell(매도) 의견을 제시합니다. 밸류\\n에이션 방법 등 절대수익률 산정은 개별 종목을 커버하는 애널리스트의 추정에 따르며, 목표주가 산정이나 투자의견 변경 주기는 종\\n목별로 다릅니다. \\n \\n[ 산업 투자의견 ] \\n당사는 산업에 대해 향후 1년간 해당 업종의 수익률이 과거 수익률에 비해 양호한 흐름을 보일 것으로 예상되는 경우에 Positive(긍정'),\n",
       " Document(metadata={'source': '../datasets/research_report/20241021/industry/20241021_industry_39280000.pdf', 'file_path': '../datasets/research_report/20241021/industry/20241021_industry_39280000.pdf', 'page': 8, 'total_pages': 9, 'format': 'PDF 1.5', 'title': '', 'author': '박혜숙', 'subject': '', 'keywords': '', 'creator': 'Microsoft® Word 2016', 'producer': 'Microsoft® Word 2016', 'creationDate': \"D:20241018164917+09'00'\", 'modDate': \"D:20241018164917+09'00'\", 'trapped': ''}, page_content='적) 의견을 제시하고 있습니다. 또한 향후 1년간 수익률이 과거 수익률과 유사한 흐름을 보일 것으로 예상되는 경우에 Neutral(중립적) \\n의견을, 과거 수익률보다 부진한 흐름을 보일 것으로 예상되는 경우에 Negative(부정적) 의견을 제시하고 있습니다. 산업별 수익률 전\\n망은 해당 산업 내 분석대상 종목들에 대한 담당 애널리스트의 분석과 판단에 따릅니다. \\n \\n[ 당사 조사분석자료의 투자등급 부여 비중 ] \\n(기준일: 2024년09 월 30 일) \\n투자등급 \\n매수 \\n중립 \\n매도 \\n합계 \\n금융투자상품의 비중 \\n94.3% \\n5.7% \\n0.0% \\n100.0%')]"
      ]
     },
     "execution_count": 6,
     "metadata": {},
     "output_type": "execute_result"
    }
   ],
   "source": [
    "split_docs"
   ]
  },
  {
   "cell_type": "code",
   "execution_count": 38,
   "metadata": {},
   "outputs": [
    {
     "data": {
      "text/plain": [
       "True"
      ]
     },
     "execution_count": 38,
     "metadata": {},
     "output_type": "execute_result"
    }
   ],
   "source": [
    "# API KEY를 환경변수로 관리하기 위한 설정 파일\n",
    "from dotenv import load_dotenv\n",
    "\n",
    "# API KEY 정보로드\n",
    "load_dotenv('../.dev.env')"
   ]
  },
  {
   "cell_type": "code",
   "execution_count": 12,
   "metadata": {},
   "outputs": [],
   "source": [
    "from language_crawler.database.models import ArticleContentOrm\n",
    "\n",
    "import pandas as pd\n",
    "from sqlalchemy import create_engine\n",
    "\n",
    "# 데이터베이스에서 데이터 로드\n",
    "engine = create_engine('sqlite:///../datasets/naver_news.db')\n",
    "query = \"SELECT * FROM article_contents\"\n",
    "df = pd.read_sql(query, engine)"
   ]
  },
  {
   "cell_type": "code",
   "execution_count": 20,
   "metadata": {},
   "outputs": [
    {
     "data": {
      "text/html": [
       "<div>\n",
       "<style scoped>\n",
       "    .dataframe tbody tr th:only-of-type {\n",
       "        vertical-align: middle;\n",
       "    }\n",
       "\n",
       "    .dataframe tbody tr th {\n",
       "        vertical-align: top;\n",
       "    }\n",
       "\n",
       "    .dataframe thead th {\n",
       "        text-align: right;\n",
       "    }\n",
       "</style>\n",
       "<table border=\"1\" class=\"dataframe\">\n",
       "  <thead>\n",
       "    <tr style=\"text-align: right;\">\n",
       "      <th></th>\n",
       "      <th>id</th>\n",
       "      <th>article_id</th>\n",
       "      <th>media_id</th>\n",
       "      <th>content</th>\n",
       "      <th>title</th>\n",
       "      <th>language</th>\n",
       "      <th>article_published_at</th>\n",
       "      <th>article_modified_at</th>\n",
       "      <th>created_at</th>\n",
       "      <th>html</th>\n",
       "      <th>ticker</th>\n",
       "    </tr>\n",
       "  </thead>\n",
       "  <tbody>\n",
       "    <tr>\n",
       "      <th>0</th>\n",
       "      <td>1</td>\n",
       "      <td>0005300993</td>\n",
       "      <td>009</td>\n",
       "      <td>\\n피에스케이홀딩스는 피에스케이 주식회사가 2019년 인적 분할하면서 설립된 회사다...</td>\n",
       "      <td>매니저의 HOT종목</td>\n",
       "      <td>ko</td>\n",
       "      <td>2024-05-09 16:05:08.000000</td>\n",
       "      <td>None</td>\n",
       "      <td>2024-05-17 14:26:36.387884</td>\n",
       "      <td>b'\\xfd7zXZ\\x00\\x00\\x04\\xe6\\xd6\\xb4F\\x02\\x00!\\x...</td>\n",
       "      <td>211270</td>\n",
       "    </tr>\n",
       "    <tr>\n",
       "      <th>1</th>\n",
       "      <td>2</td>\n",
       "      <td>0000285776</td>\n",
       "      <td>629</td>\n",
       "      <td>\\n-이번에는 금융권 소식을 들어보겠습니다. 미국 중앙은행인 연방준비제도(Fed)가...</td>\n",
       "      <td>[비즈토크&lt;하&gt;] 美금리 6연속 동결에…셈법 복잡해진 한은</td>\n",
       "      <td>ko</td>\n",
       "      <td>2024-05-05 00:04:03.000000</td>\n",
       "      <td>None</td>\n",
       "      <td>2024-05-17 14:26:36.471548</td>\n",
       "      <td>b'\\xfd7zXZ\\x00\\x00\\x04\\xe6\\xd6\\xb4F\\x02\\x00!\\x...</td>\n",
       "      <td>6840</td>\n",
       "    </tr>\n",
       "    <tr>\n",
       "      <th>2</th>\n",
       "      <td>3</td>\n",
       "      <td>0004326341</td>\n",
       "      <td>011</td>\n",
       "      <td>\\n\\t\\t\\t[서울경제] &lt;유가증권&gt;▲보통주추가상장=(주식매수선택권행사) (국내C...</td>\n",
       "      <td>오늘의 증시 메모[4월 12일]</td>\n",
       "      <td>ko</td>\n",
       "      <td>2024-04-11 14:17:03.000000</td>\n",
       "      <td>None</td>\n",
       "      <td>2024-05-17 14:26:36.488026</td>\n",
       "      <td>b'\\xfd7zXZ\\x00\\x00\\x04\\xe6\\xd6\\xb4F\\x02\\x00!\\x...</td>\n",
       "      <td>109960</td>\n",
       "    </tr>\n",
       "    <tr>\n",
       "      <th>3</th>\n",
       "      <td>4</td>\n",
       "      <td>0007502685</td>\n",
       "      <td>421</td>\n",
       "      <td>\\n(서울=뉴스1) 박현영 기자 = 한국 진출을 예고했던 해외 대형 가상자산(암호화...</td>\n",
       "      <td>바이낸스도 크립토닷컴도 '진입금지'…해외 거래소는 못 오는 한국</td>\n",
       "      <td>ko</td>\n",
       "      <td>2024-04-25 07:00:00.000000</td>\n",
       "      <td>None</td>\n",
       "      <td>2024-05-17 14:26:36.518673</td>\n",
       "      <td>b'\\xfd7zXZ\\x00\\x00\\x04\\xe6\\xd6\\xb4F\\x02\\x00!\\x...</td>\n",
       "      <td>139050</td>\n",
       "    </tr>\n",
       "    <tr>\n",
       "      <th>4</th>\n",
       "      <td>5</td>\n",
       "      <td>0005733933</td>\n",
       "      <td>018</td>\n",
       "      <td>\\n\\t\\t\\t[이데일리 이정현 기자]AP시스템(265520)은 연결재무제표 기준 ...</td>\n",
       "      <td>AP시스템, 1Q 영업익 72.3억…전년비 38.17%↓</td>\n",
       "      <td>ko</td>\n",
       "      <td>2024-05-08 16:38:02.000000</td>\n",
       "      <td>None</td>\n",
       "      <td>2024-05-17 14:26:36.546228</td>\n",
       "      <td>b'\\xfd7zXZ\\x00\\x00\\x04\\xe6\\xd6\\xb4F\\x02\\x00!\\x...</td>\n",
       "      <td>265520</td>\n",
       "    </tr>\n",
       "    <tr>\n",
       "      <th>...</th>\n",
       "      <td>...</td>\n",
       "      <td>...</td>\n",
       "      <td>...</td>\n",
       "      <td>...</td>\n",
       "      <td>...</td>\n",
       "      <td>...</td>\n",
       "      <td>...</td>\n",
       "      <td>...</td>\n",
       "      <td>...</td>\n",
       "      <td>...</td>\n",
       "      <td>...</td>\n",
       "    </tr>\n",
       "    <tr>\n",
       "      <th>765</th>\n",
       "      <td>766</td>\n",
       "      <td>0000813319</td>\n",
       "      <td>031</td>\n",
       "      <td>\\nKT&amp;G 차기 사장 후보군이 내부 출신 2명, 외부 2명 등 4명으로 압축됐다....</td>\n",
       "      <td>KT&amp;G 사장 '숏리스트'…내부 방경만·허철호 vs 외부 권계현·이석주</td>\n",
       "      <td>ko</td>\n",
       "      <td>2024-02-16 18:31:01.000000</td>\n",
       "      <td>None</td>\n",
       "      <td>2024-05-17 14:27:09.323844</td>\n",
       "      <td>b'\\xfd7zXZ\\x00\\x00\\x04\\xe6\\xd6\\xb4F\\x02\\x00!\\x...</td>\n",
       "      <td>6840</td>\n",
       "    </tr>\n",
       "    <tr>\n",
       "      <th>766</th>\n",
       "      <td>767</td>\n",
       "      <td>0005380903</td>\n",
       "      <td>277</td>\n",
       "      <td>\\nKT&amp;G는 16일 열린 사장후보추천위원회(사추위)에서 차기 사장 후보 2차 숏리...</td>\n",
       "      <td>KT&amp;G, 사장 후보 4명 압축…권계현·방경만·이석주·허철호</td>\n",
       "      <td>ko</td>\n",
       "      <td>2024-02-16 18:23:50.000000</td>\n",
       "      <td>None</td>\n",
       "      <td>2024-05-17 14:27:09.354115</td>\n",
       "      <td>b'\\xfd7zXZ\\x00\\x00\\x04\\xe6\\xd6\\xb4F\\x02\\x00!\\x...</td>\n",
       "      <td>6840</td>\n",
       "    </tr>\n",
       "    <tr>\n",
       "      <th>767</th>\n",
       "      <td>768</td>\n",
       "      <td>0000071858</td>\n",
       "      <td>050</td>\n",
       "      <td>\\nKT&amp;G 사장후보추천위원회(이하 사추위)는 16일 사추위를 열고 차기 사장 후보...</td>\n",
       "      <td>KT&amp;G 사장 후보 4명 압축…권계현·방경만·이석주·허철호</td>\n",
       "      <td>ko</td>\n",
       "      <td>2024-02-16 18:52:01.000000</td>\n",
       "      <td>None</td>\n",
       "      <td>2024-05-17 14:27:09.383846</td>\n",
       "      <td>b'\\xfd7zXZ\\x00\\x00\\x04\\xe6\\xd6\\xb4F\\x02\\x00!\\x...</td>\n",
       "      <td>6840</td>\n",
       "    </tr>\n",
       "    <tr>\n",
       "      <th>768</th>\n",
       "      <td>769</td>\n",
       "      <td>0003817143</td>\n",
       "      <td>023</td>\n",
       "      <td>\\n\\t\\t\\t\\t\\t\\t\\t\\t\\t\\tKT&amp;G 사장후보추천위원회(사추위)는 권계현...</td>\n",
       "      <td>KT&amp;G 사장 후보 4명으로 압축…내·외부 인사 각 2명</td>\n",
       "      <td>ko</td>\n",
       "      <td>2024-02-16 18:23:01.000000</td>\n",
       "      <td>None</td>\n",
       "      <td>2024-05-17 14:27:09.413646</td>\n",
       "      <td>b'\\xfd7zXZ\\x00\\x00\\x04\\xe6\\xd6\\xb4F\\x02\\x00!\\x...</td>\n",
       "      <td>6840</td>\n",
       "    </tr>\n",
       "    <tr>\n",
       "      <th>769</th>\n",
       "      <td>770</td>\n",
       "      <td>0001148838</td>\n",
       "      <td>215</td>\n",
       "      <td>\\nKT&amp;G 사장후보추천위원회는 16일 사추위를 열고 차기 사장 후보 2차 숏리스트...</td>\n",
       "      <td>KT&amp;G 사추위, 방경만·허철호 등 4명 '2차 숏리스트' 확정</td>\n",
       "      <td>ko</td>\n",
       "      <td>2024-02-16 18:09:06.000000</td>\n",
       "      <td>None</td>\n",
       "      <td>2024-05-17 14:27:09.444466</td>\n",
       "      <td>b'\\xfd7zXZ\\x00\\x00\\x04\\xe6\\xd6\\xb4F\\x02\\x00!\\x...</td>\n",
       "      <td>6840</td>\n",
       "    </tr>\n",
       "  </tbody>\n",
       "</table>\n",
       "<p>770 rows × 11 columns</p>\n",
       "</div>"
      ],
      "text/plain": [
       "      id  article_id media_id  \\\n",
       "0      1  0005300993      009   \n",
       "1      2  0000285776      629   \n",
       "2      3  0004326341      011   \n",
       "3      4  0007502685      421   \n",
       "4      5  0005733933      018   \n",
       "..   ...         ...      ...   \n",
       "765  766  0000813319      031   \n",
       "766  767  0005380903      277   \n",
       "767  768  0000071858      050   \n",
       "768  769  0003817143      023   \n",
       "769  770  0001148838      215   \n",
       "\n",
       "                                               content  \\\n",
       "0    \\n피에스케이홀딩스는 피에스케이 주식회사가 2019년 인적 분할하면서 설립된 회사다...   \n",
       "1    \\n-이번에는 금융권 소식을 들어보겠습니다. 미국 중앙은행인 연방준비제도(Fed)가...   \n",
       "2    \\n\\t\\t\\t[서울경제] <유가증권>▲보통주추가상장=(주식매수선택권행사) (국내C...   \n",
       "3    \\n(서울=뉴스1) 박현영 기자 = 한국 진출을 예고했던 해외 대형 가상자산(암호화...   \n",
       "4    \\n\\t\\t\\t[이데일리 이정현 기자]AP시스템(265520)은 연결재무제표 기준 ...   \n",
       "..                                                 ...   \n",
       "765  \\nKT&G 차기 사장 후보군이 내부 출신 2명, 외부 2명 등 4명으로 압축됐다....   \n",
       "766  \\nKT&G는 16일 열린 사장후보추천위원회(사추위)에서 차기 사장 후보 2차 숏리...   \n",
       "767  \\nKT&G 사장후보추천위원회(이하 사추위)는 16일 사추위를 열고 차기 사장 후보...   \n",
       "768  \\n\\t\\t\\t\\t\\t\\t\\t\\t\\t\\tKT&G 사장후보추천위원회(사추위)는 권계현...   \n",
       "769  \\nKT&G 사장후보추천위원회는 16일 사추위를 열고 차기 사장 후보 2차 숏리스트...   \n",
       "\n",
       "                                       title language  \\\n",
       "0                                 매니저의 HOT종목       ko   \n",
       "1           [비즈토크<하>] 美금리 6연속 동결에…셈법 복잡해진 한은       ko   \n",
       "2                          오늘의 증시 메모[4월 12일]       ko   \n",
       "3        바이낸스도 크립토닷컴도 '진입금지'…해외 거래소는 못 오는 한국       ko   \n",
       "4            AP시스템, 1Q 영업익 72.3억…전년비 38.17%↓       ko   \n",
       "..                                       ...      ...   \n",
       "765  KT&G 사장 '숏리스트'…내부 방경만·허철호 vs 외부 권계현·이석주       ko   \n",
       "766        KT&G, 사장 후보 4명 압축…권계현·방경만·이석주·허철호       ko   \n",
       "767         KT&G 사장 후보 4명 압축…권계현·방경만·이석주·허철호       ko   \n",
       "768          KT&G 사장 후보 4명으로 압축…내·외부 인사 각 2명       ko   \n",
       "769      KT&G 사추위, 방경만·허철호 등 4명 '2차 숏리스트' 확정       ko   \n",
       "\n",
       "           article_published_at article_modified_at  \\\n",
       "0    2024-05-09 16:05:08.000000                None   \n",
       "1    2024-05-05 00:04:03.000000                None   \n",
       "2    2024-04-11 14:17:03.000000                None   \n",
       "3    2024-04-25 07:00:00.000000                None   \n",
       "4    2024-05-08 16:38:02.000000                None   \n",
       "..                          ...                 ...   \n",
       "765  2024-02-16 18:31:01.000000                None   \n",
       "766  2024-02-16 18:23:50.000000                None   \n",
       "767  2024-02-16 18:52:01.000000                None   \n",
       "768  2024-02-16 18:23:01.000000                None   \n",
       "769  2024-02-16 18:09:06.000000                None   \n",
       "\n",
       "                     created_at  \\\n",
       "0    2024-05-17 14:26:36.387884   \n",
       "1    2024-05-17 14:26:36.471548   \n",
       "2    2024-05-17 14:26:36.488026   \n",
       "3    2024-05-17 14:26:36.518673   \n",
       "4    2024-05-17 14:26:36.546228   \n",
       "..                          ...   \n",
       "765  2024-05-17 14:27:09.323844   \n",
       "766  2024-05-17 14:27:09.354115   \n",
       "767  2024-05-17 14:27:09.383846   \n",
       "768  2024-05-17 14:27:09.413646   \n",
       "769  2024-05-17 14:27:09.444466   \n",
       "\n",
       "                                                  html  ticker  \n",
       "0    b'\\xfd7zXZ\\x00\\x00\\x04\\xe6\\xd6\\xb4F\\x02\\x00!\\x...  211270  \n",
       "1    b'\\xfd7zXZ\\x00\\x00\\x04\\xe6\\xd6\\xb4F\\x02\\x00!\\x...    6840  \n",
       "2    b'\\xfd7zXZ\\x00\\x00\\x04\\xe6\\xd6\\xb4F\\x02\\x00!\\x...  109960  \n",
       "3    b'\\xfd7zXZ\\x00\\x00\\x04\\xe6\\xd6\\xb4F\\x02\\x00!\\x...  139050  \n",
       "4    b'\\xfd7zXZ\\x00\\x00\\x04\\xe6\\xd6\\xb4F\\x02\\x00!\\x...  265520  \n",
       "..                                                 ...     ...  \n",
       "765  b'\\xfd7zXZ\\x00\\x00\\x04\\xe6\\xd6\\xb4F\\x02\\x00!\\x...    6840  \n",
       "766  b'\\xfd7zXZ\\x00\\x00\\x04\\xe6\\xd6\\xb4F\\x02\\x00!\\x...    6840  \n",
       "767  b'\\xfd7zXZ\\x00\\x00\\x04\\xe6\\xd6\\xb4F\\x02\\x00!\\x...    6840  \n",
       "768  b'\\xfd7zXZ\\x00\\x00\\x04\\xe6\\xd6\\xb4F\\x02\\x00!\\x...    6840  \n",
       "769  b'\\xfd7zXZ\\x00\\x00\\x04\\xe6\\xd6\\xb4F\\x02\\x00!\\x...    6840  \n",
       "\n",
       "[770 rows x 11 columns]"
      ]
     },
     "execution_count": 20,
     "metadata": {},
     "output_type": "execute_result"
    }
   ],
   "source": [
    "df"
   ]
  },
  {
   "cell_type": "code",
   "execution_count": 13,
   "metadata": {},
   "outputs": [],
   "source": [
    "from language_backend.constant import NAVER_NEWS_ARTICLE_COLLECTION "
   ]
  },
  {
   "cell_type": "code",
   "execution_count": 14,
   "metadata": {},
   "outputs": [],
   "source": [
    "\n",
    "from language_backend.vectorstore import get_client\n",
    "\n",
    "\n",
    "client = get_client()\n",
    "if client.has_collection(NAVER_NEWS_ARTICLE_COLLECTION):\n",
    "    client.drop_collection(NAVER_NEWS_ARTICLE_COLLECTION)\n"
   ]
  },
  {
   "cell_type": "code",
   "execution_count": 15,
   "metadata": {},
   "outputs": [],
   "source": [
    "from langchain_openai import OpenAIEmbeddings\n",
    "\n",
    "\n",
    "embedding = OpenAIEmbeddings(model=\"text-embedding-3-large\")"
   ]
  },
  {
   "cell_type": "code",
   "execution_count": 30,
   "metadata": {},
   "outputs": [],
   "source": [
    "%reload_ext autoreload\n",
    "%autoreload 2"
   ]
  },
  {
   "cell_type": "code",
   "execution_count": 34,
   "metadata": {},
   "outputs": [],
   "source": [
    "from language_backend.vectorstore import get_naver_news_article_collection"
   ]
  },
  {
   "cell_type": "code",
   "execution_count": 40,
   "metadata": {},
   "outputs": [
    {
     "name": "stderr",
     "output_type": "stream",
     "text": [
      "UsageError: Line magic function `%export` not found.\n"
     ]
    }
   ],
   "source": [
    "collection = get_naver_news_article_collection()"
   ]
  },
  {
   "cell_type": "code",
   "execution_count": 41,
   "metadata": {},
   "outputs": [
    {
     "ename": "AuthenticationError",
     "evalue": "Error code: 401 - {'error': {'message': 'Incorrect API key provided: sk-vHz2R***************************************6Cbu. You can find your API key at https://platform.openai.com/account/api-keys.', 'type': 'invalid_request_error', 'param': None, 'code': 'invalid_api_key'}}",
     "output_type": "error",
     "traceback": [
      "\u001b[0;31m---------------------------------------------------------------------------\u001b[0m",
      "\u001b[0;31mAuthenticationError\u001b[0m                       Traceback (most recent call last)",
      "Cell \u001b[0;32mIn[41], line 8\u001b[0m\n\u001b[1;32m      1\u001b[0m \u001b[38;5;28;01mfor\u001b[39;00m row \u001b[38;5;129;01min\u001b[39;00m df\u001b[38;5;241m.\u001b[39mitertuples():\n\u001b[1;32m      2\u001b[0m     collection\u001b[38;5;241m.\u001b[39minsert([\n\u001b[1;32m      3\u001b[0m         {\n\u001b[1;32m      4\u001b[0m             \u001b[38;5;124m\"\u001b[39m\u001b[38;5;124marticle_id\u001b[39m\u001b[38;5;124m\"\u001b[39m: \u001b[38;5;28mint\u001b[39m(row\u001b[38;5;241m.\u001b[39marticle_id),            \n\u001b[1;32m      5\u001b[0m             \u001b[38;5;124m\"\u001b[39m\u001b[38;5;124mticker\u001b[39m\u001b[38;5;124m\"\u001b[39m: row\u001b[38;5;241m.\u001b[39mticker,\n\u001b[1;32m      6\u001b[0m             \u001b[38;5;124m\"\u001b[39m\u001b[38;5;124mtitle\u001b[39m\u001b[38;5;124m\"\u001b[39m: row\u001b[38;5;241m.\u001b[39mtitle,\n\u001b[1;32m      7\u001b[0m             \u001b[38;5;124m\"\u001b[39m\u001b[38;5;124mcontent\u001b[39m\u001b[38;5;124m\"\u001b[39m: row\u001b[38;5;241m.\u001b[39mcontent,\n\u001b[0;32m----> 8\u001b[0m             \u001b[38;5;124m\"\u001b[39m\u001b[38;5;124mcontent_embedding\u001b[39m\u001b[38;5;124m\"\u001b[39m: \u001b[43membedding\u001b[49m\u001b[38;5;241;43m.\u001b[39;49m\u001b[43membed_query\u001b[49m\u001b[43m(\u001b[49m\u001b[43mrow\u001b[49m\u001b[38;5;241;43m.\u001b[39;49m\u001b[43mcontent\u001b[49m\u001b[43m)\u001b[49m,\n\u001b[1;32m      9\u001b[0m             \u001b[38;5;124m\"\u001b[39m\u001b[38;5;124marticle_published_at\u001b[39m\u001b[38;5;124m\"\u001b[39m: row\u001b[38;5;241m.\u001b[39marticle_published_at,\n\u001b[1;32m     10\u001b[0m             \u001b[38;5;124m\"\u001b[39m\u001b[38;5;124marticle_modifed_at\u001b[39m\u001b[38;5;124m\"\u001b[39m: row\u001b[38;5;241m.\u001b[39marticle_modifed_at,\n\u001b[1;32m     11\u001b[0m         }\n\u001b[1;32m     12\u001b[0m     ])\n",
      "File \u001b[0;32m~/Library/Caches/pypoetry/virtualenvs/financesentimentcorpus-81pPHzJy-py3.12/lib/python3.12/site-packages/langchain_openai/embeddings/base.py:629\u001b[0m, in \u001b[0;36mOpenAIEmbeddings.embed_query\u001b[0;34m(self, text)\u001b[0m\n\u001b[1;32m    620\u001b[0m \u001b[38;5;28;01mdef\u001b[39;00m \u001b[38;5;21membed_query\u001b[39m(\u001b[38;5;28mself\u001b[39m, text: \u001b[38;5;28mstr\u001b[39m) \u001b[38;5;241m-\u001b[39m\u001b[38;5;241m>\u001b[39m List[\u001b[38;5;28mfloat\u001b[39m]:\n\u001b[1;32m    621\u001b[0m \u001b[38;5;250m    \u001b[39m\u001b[38;5;124;03m\"\"\"Call out to OpenAI's embedding endpoint for embedding query text.\u001b[39;00m\n\u001b[1;32m    622\u001b[0m \n\u001b[1;32m    623\u001b[0m \u001b[38;5;124;03m    Args:\u001b[39;00m\n\u001b[0;32m   (...)\u001b[0m\n\u001b[1;32m    627\u001b[0m \u001b[38;5;124;03m        Embedding for the text.\u001b[39;00m\n\u001b[1;32m    628\u001b[0m \u001b[38;5;124;03m    \"\"\"\u001b[39;00m\n\u001b[0;32m--> 629\u001b[0m     \u001b[38;5;28;01mreturn\u001b[39;00m \u001b[38;5;28;43mself\u001b[39;49m\u001b[38;5;241;43m.\u001b[39;49m\u001b[43membed_documents\u001b[49m\u001b[43m(\u001b[49m\u001b[43m[\u001b[49m\u001b[43mtext\u001b[49m\u001b[43m]\u001b[49m\u001b[43m)\u001b[49m[\u001b[38;5;241m0\u001b[39m]\n",
      "File \u001b[0;32m~/Library/Caches/pypoetry/virtualenvs/financesentimentcorpus-81pPHzJy-py3.12/lib/python3.12/site-packages/langchain_openai/embeddings/base.py:588\u001b[0m, in \u001b[0;36mOpenAIEmbeddings.embed_documents\u001b[0;34m(self, texts, chunk_size)\u001b[0m\n\u001b[1;32m    585\u001b[0m \u001b[38;5;66;03m# NOTE: to keep things simple, we assume the list may contain texts longer\u001b[39;00m\n\u001b[1;32m    586\u001b[0m \u001b[38;5;66;03m#       than the maximum context and use length-safe embedding function.\u001b[39;00m\n\u001b[1;32m    587\u001b[0m engine \u001b[38;5;241m=\u001b[39m cast(\u001b[38;5;28mstr\u001b[39m, \u001b[38;5;28mself\u001b[39m\u001b[38;5;241m.\u001b[39mdeployment)\n\u001b[0;32m--> 588\u001b[0m \u001b[38;5;28;01mreturn\u001b[39;00m \u001b[38;5;28;43mself\u001b[39;49m\u001b[38;5;241;43m.\u001b[39;49m\u001b[43m_get_len_safe_embeddings\u001b[49m\u001b[43m(\u001b[49m\u001b[43mtexts\u001b[49m\u001b[43m,\u001b[49m\u001b[43m \u001b[49m\u001b[43mengine\u001b[49m\u001b[38;5;241;43m=\u001b[39;49m\u001b[43mengine\u001b[49m\u001b[43m)\u001b[49m\n",
      "File \u001b[0;32m~/Library/Caches/pypoetry/virtualenvs/financesentimentcorpus-81pPHzJy-py3.12/lib/python3.12/site-packages/langchain_openai/embeddings/base.py:483\u001b[0m, in \u001b[0;36mOpenAIEmbeddings._get_len_safe_embeddings\u001b[0;34m(self, texts, engine, chunk_size)\u001b[0m\n\u001b[1;32m    481\u001b[0m batched_embeddings: List[List[\u001b[38;5;28mfloat\u001b[39m]] \u001b[38;5;241m=\u001b[39m []\n\u001b[1;32m    482\u001b[0m \u001b[38;5;28;01mfor\u001b[39;00m i \u001b[38;5;129;01min\u001b[39;00m _iter:\n\u001b[0;32m--> 483\u001b[0m     response \u001b[38;5;241m=\u001b[39m \u001b[38;5;28;43mself\u001b[39;49m\u001b[38;5;241;43m.\u001b[39;49m\u001b[43mclient\u001b[49m\u001b[38;5;241;43m.\u001b[39;49m\u001b[43mcreate\u001b[49m\u001b[43m(\u001b[49m\n\u001b[1;32m    484\u001b[0m \u001b[43m        \u001b[49m\u001b[38;5;28;43minput\u001b[39;49m\u001b[38;5;241;43m=\u001b[39;49m\u001b[43mtokens\u001b[49m\u001b[43m[\u001b[49m\u001b[43mi\u001b[49m\u001b[43m \u001b[49m\u001b[43m:\u001b[49m\u001b[43m \u001b[49m\u001b[43mi\u001b[49m\u001b[43m \u001b[49m\u001b[38;5;241;43m+\u001b[39;49m\u001b[43m \u001b[49m\u001b[43m_chunk_size\u001b[49m\u001b[43m]\u001b[49m\u001b[43m,\u001b[49m\u001b[43m \u001b[49m\u001b[38;5;241;43m*\u001b[39;49m\u001b[38;5;241;43m*\u001b[39;49m\u001b[38;5;28;43mself\u001b[39;49m\u001b[38;5;241;43m.\u001b[39;49m\u001b[43m_invocation_params\u001b[49m\n\u001b[1;32m    485\u001b[0m \u001b[43m    \u001b[49m\u001b[43m)\u001b[49m\n\u001b[1;32m    486\u001b[0m     \u001b[38;5;28;01mif\u001b[39;00m \u001b[38;5;129;01mnot\u001b[39;00m \u001b[38;5;28misinstance\u001b[39m(response, \u001b[38;5;28mdict\u001b[39m):\n\u001b[1;32m    487\u001b[0m         response \u001b[38;5;241m=\u001b[39m response\u001b[38;5;241m.\u001b[39mmodel_dump()\n",
      "File \u001b[0;32m~/Library/Caches/pypoetry/virtualenvs/financesentimentcorpus-81pPHzJy-py3.12/lib/python3.12/site-packages/openai/resources/embeddings.py:124\u001b[0m, in \u001b[0;36mEmbeddings.create\u001b[0;34m(self, input, model, dimensions, encoding_format, user, extra_headers, extra_query, extra_body, timeout)\u001b[0m\n\u001b[1;32m    118\u001b[0m         embedding\u001b[38;5;241m.\u001b[39membedding \u001b[38;5;241m=\u001b[39m np\u001b[38;5;241m.\u001b[39mfrombuffer(  \u001b[38;5;66;03m# type: ignore[no-untyped-call]\u001b[39;00m\n\u001b[1;32m    119\u001b[0m             base64\u001b[38;5;241m.\u001b[39mb64decode(data), dtype\u001b[38;5;241m=\u001b[39m\u001b[38;5;124m\"\u001b[39m\u001b[38;5;124mfloat32\u001b[39m\u001b[38;5;124m\"\u001b[39m\n\u001b[1;32m    120\u001b[0m         )\u001b[38;5;241m.\u001b[39mtolist()\n\u001b[1;32m    122\u001b[0m     \u001b[38;5;28;01mreturn\u001b[39;00m obj\n\u001b[0;32m--> 124\u001b[0m \u001b[38;5;28;01mreturn\u001b[39;00m \u001b[38;5;28;43mself\u001b[39;49m\u001b[38;5;241;43m.\u001b[39;49m\u001b[43m_post\u001b[49m\u001b[43m(\u001b[49m\n\u001b[1;32m    125\u001b[0m \u001b[43m    \u001b[49m\u001b[38;5;124;43m\"\u001b[39;49m\u001b[38;5;124;43m/embeddings\u001b[39;49m\u001b[38;5;124;43m\"\u001b[39;49m\u001b[43m,\u001b[49m\n\u001b[1;32m    126\u001b[0m \u001b[43m    \u001b[49m\u001b[43mbody\u001b[49m\u001b[38;5;241;43m=\u001b[39;49m\u001b[43mmaybe_transform\u001b[49m\u001b[43m(\u001b[49m\u001b[43mparams\u001b[49m\u001b[43m,\u001b[49m\u001b[43m \u001b[49m\u001b[43membedding_create_params\u001b[49m\u001b[38;5;241;43m.\u001b[39;49m\u001b[43mEmbeddingCreateParams\u001b[49m\u001b[43m)\u001b[49m\u001b[43m,\u001b[49m\n\u001b[1;32m    127\u001b[0m \u001b[43m    \u001b[49m\u001b[43moptions\u001b[49m\u001b[38;5;241;43m=\u001b[39;49m\u001b[43mmake_request_options\u001b[49m\u001b[43m(\u001b[49m\n\u001b[1;32m    128\u001b[0m \u001b[43m        \u001b[49m\u001b[43mextra_headers\u001b[49m\u001b[38;5;241;43m=\u001b[39;49m\u001b[43mextra_headers\u001b[49m\u001b[43m,\u001b[49m\n\u001b[1;32m    129\u001b[0m \u001b[43m        \u001b[49m\u001b[43mextra_query\u001b[49m\u001b[38;5;241;43m=\u001b[39;49m\u001b[43mextra_query\u001b[49m\u001b[43m,\u001b[49m\n\u001b[1;32m    130\u001b[0m \u001b[43m        \u001b[49m\u001b[43mextra_body\u001b[49m\u001b[38;5;241;43m=\u001b[39;49m\u001b[43mextra_body\u001b[49m\u001b[43m,\u001b[49m\n\u001b[1;32m    131\u001b[0m \u001b[43m        \u001b[49m\u001b[43mtimeout\u001b[49m\u001b[38;5;241;43m=\u001b[39;49m\u001b[43mtimeout\u001b[49m\u001b[43m,\u001b[49m\n\u001b[1;32m    132\u001b[0m \u001b[43m        \u001b[49m\u001b[43mpost_parser\u001b[49m\u001b[38;5;241;43m=\u001b[39;49m\u001b[43mparser\u001b[49m\u001b[43m,\u001b[49m\n\u001b[1;32m    133\u001b[0m \u001b[43m    \u001b[49m\u001b[43m)\u001b[49m\u001b[43m,\u001b[49m\n\u001b[1;32m    134\u001b[0m \u001b[43m    \u001b[49m\u001b[43mcast_to\u001b[49m\u001b[38;5;241;43m=\u001b[39;49m\u001b[43mCreateEmbeddingResponse\u001b[49m\u001b[43m,\u001b[49m\n\u001b[1;32m    135\u001b[0m \u001b[43m\u001b[49m\u001b[43m)\u001b[49m\n",
      "File \u001b[0;32m~/Library/Caches/pypoetry/virtualenvs/financesentimentcorpus-81pPHzJy-py3.12/lib/python3.12/site-packages/openai/_base_client.py:1277\u001b[0m, in \u001b[0;36mSyncAPIClient.post\u001b[0;34m(self, path, cast_to, body, options, files, stream, stream_cls)\u001b[0m\n\u001b[1;32m   1263\u001b[0m \u001b[38;5;28;01mdef\u001b[39;00m \u001b[38;5;21mpost\u001b[39m(\n\u001b[1;32m   1264\u001b[0m     \u001b[38;5;28mself\u001b[39m,\n\u001b[1;32m   1265\u001b[0m     path: \u001b[38;5;28mstr\u001b[39m,\n\u001b[0;32m   (...)\u001b[0m\n\u001b[1;32m   1272\u001b[0m     stream_cls: \u001b[38;5;28mtype\u001b[39m[_StreamT] \u001b[38;5;241m|\u001b[39m \u001b[38;5;28;01mNone\u001b[39;00m \u001b[38;5;241m=\u001b[39m \u001b[38;5;28;01mNone\u001b[39;00m,\n\u001b[1;32m   1273\u001b[0m ) \u001b[38;5;241m-\u001b[39m\u001b[38;5;241m>\u001b[39m ResponseT \u001b[38;5;241m|\u001b[39m _StreamT:\n\u001b[1;32m   1274\u001b[0m     opts \u001b[38;5;241m=\u001b[39m FinalRequestOptions\u001b[38;5;241m.\u001b[39mconstruct(\n\u001b[1;32m   1275\u001b[0m         method\u001b[38;5;241m=\u001b[39m\u001b[38;5;124m\"\u001b[39m\u001b[38;5;124mpost\u001b[39m\u001b[38;5;124m\"\u001b[39m, url\u001b[38;5;241m=\u001b[39mpath, json_data\u001b[38;5;241m=\u001b[39mbody, files\u001b[38;5;241m=\u001b[39mto_httpx_files(files), \u001b[38;5;241m*\u001b[39m\u001b[38;5;241m*\u001b[39moptions\n\u001b[1;32m   1276\u001b[0m     )\n\u001b[0;32m-> 1277\u001b[0m     \u001b[38;5;28;01mreturn\u001b[39;00m cast(ResponseT, \u001b[38;5;28;43mself\u001b[39;49m\u001b[38;5;241;43m.\u001b[39;49m\u001b[43mrequest\u001b[49m\u001b[43m(\u001b[49m\u001b[43mcast_to\u001b[49m\u001b[43m,\u001b[49m\u001b[43m \u001b[49m\u001b[43mopts\u001b[49m\u001b[43m,\u001b[49m\u001b[43m \u001b[49m\u001b[43mstream\u001b[49m\u001b[38;5;241;43m=\u001b[39;49m\u001b[43mstream\u001b[49m\u001b[43m,\u001b[49m\u001b[43m \u001b[49m\u001b[43mstream_cls\u001b[49m\u001b[38;5;241;43m=\u001b[39;49m\u001b[43mstream_cls\u001b[49m\u001b[43m)\u001b[49m)\n",
      "File \u001b[0;32m~/Library/Caches/pypoetry/virtualenvs/financesentimentcorpus-81pPHzJy-py3.12/lib/python3.12/site-packages/openai/_base_client.py:954\u001b[0m, in \u001b[0;36mSyncAPIClient.request\u001b[0;34m(self, cast_to, options, remaining_retries, stream, stream_cls)\u001b[0m\n\u001b[1;32m    951\u001b[0m \u001b[38;5;28;01melse\u001b[39;00m:\n\u001b[1;32m    952\u001b[0m     retries_taken \u001b[38;5;241m=\u001b[39m \u001b[38;5;241m0\u001b[39m\n\u001b[0;32m--> 954\u001b[0m \u001b[38;5;28;01mreturn\u001b[39;00m \u001b[38;5;28;43mself\u001b[39;49m\u001b[38;5;241;43m.\u001b[39;49m\u001b[43m_request\u001b[49m\u001b[43m(\u001b[49m\n\u001b[1;32m    955\u001b[0m \u001b[43m    \u001b[49m\u001b[43mcast_to\u001b[49m\u001b[38;5;241;43m=\u001b[39;49m\u001b[43mcast_to\u001b[49m\u001b[43m,\u001b[49m\n\u001b[1;32m    956\u001b[0m \u001b[43m    \u001b[49m\u001b[43moptions\u001b[49m\u001b[38;5;241;43m=\u001b[39;49m\u001b[43moptions\u001b[49m\u001b[43m,\u001b[49m\n\u001b[1;32m    957\u001b[0m \u001b[43m    \u001b[49m\u001b[43mstream\u001b[49m\u001b[38;5;241;43m=\u001b[39;49m\u001b[43mstream\u001b[49m\u001b[43m,\u001b[49m\n\u001b[1;32m    958\u001b[0m \u001b[43m    \u001b[49m\u001b[43mstream_cls\u001b[49m\u001b[38;5;241;43m=\u001b[39;49m\u001b[43mstream_cls\u001b[49m\u001b[43m,\u001b[49m\n\u001b[1;32m    959\u001b[0m \u001b[43m    \u001b[49m\u001b[43mretries_taken\u001b[49m\u001b[38;5;241;43m=\u001b[39;49m\u001b[43mretries_taken\u001b[49m\u001b[43m,\u001b[49m\n\u001b[1;32m    960\u001b[0m \u001b[43m\u001b[49m\u001b[43m)\u001b[49m\n",
      "File \u001b[0;32m~/Library/Caches/pypoetry/virtualenvs/financesentimentcorpus-81pPHzJy-py3.12/lib/python3.12/site-packages/openai/_base_client.py:1058\u001b[0m, in \u001b[0;36mSyncAPIClient._request\u001b[0;34m(self, cast_to, options, retries_taken, stream, stream_cls)\u001b[0m\n\u001b[1;32m   1055\u001b[0m         err\u001b[38;5;241m.\u001b[39mresponse\u001b[38;5;241m.\u001b[39mread()\n\u001b[1;32m   1057\u001b[0m     log\u001b[38;5;241m.\u001b[39mdebug(\u001b[38;5;124m\"\u001b[39m\u001b[38;5;124mRe-raising status error\u001b[39m\u001b[38;5;124m\"\u001b[39m)\n\u001b[0;32m-> 1058\u001b[0m     \u001b[38;5;28;01mraise\u001b[39;00m \u001b[38;5;28mself\u001b[39m\u001b[38;5;241m.\u001b[39m_make_status_error_from_response(err\u001b[38;5;241m.\u001b[39mresponse) \u001b[38;5;28;01mfrom\u001b[39;00m \u001b[38;5;28;01mNone\u001b[39;00m\n\u001b[1;32m   1060\u001b[0m \u001b[38;5;28;01mreturn\u001b[39;00m \u001b[38;5;28mself\u001b[39m\u001b[38;5;241m.\u001b[39m_process_response(\n\u001b[1;32m   1061\u001b[0m     cast_to\u001b[38;5;241m=\u001b[39mcast_to,\n\u001b[1;32m   1062\u001b[0m     options\u001b[38;5;241m=\u001b[39moptions,\n\u001b[0;32m   (...)\u001b[0m\n\u001b[1;32m   1066\u001b[0m     retries_taken\u001b[38;5;241m=\u001b[39mretries_taken,\n\u001b[1;32m   1067\u001b[0m )\n",
      "\u001b[0;31mAuthenticationError\u001b[0m: Error code: 401 - {'error': {'message': 'Incorrect API key provided: sk-vHz2R***************************************6Cbu. You can find your API key at https://platform.openai.com/account/api-keys.', 'type': 'invalid_request_error', 'param': None, 'code': 'invalid_api_key'}}"
     ]
    }
   ],
   "source": [
    "for row in df.itertuples():\n",
    "    collection.insert([\n",
    "        {\n",
    "            \"article_id\": int(row.article_id),            \n",
    "            \"ticker\": row.ticker,\n",
    "            \"title\": row.title,\n",
    "            \"content\": row.content,\n",
    "            \"content_embedding\": embedding.embed_query(row.content),\n",
    "            \"article_published_at\": row.article_published_at,\n",
    "            \"article_modifed_at\": row.article_modifed_at,\n",
    "        }\n",
    "    ])"
   ]
  },
  {
   "cell_type": "code",
   "execution_count": null,
   "metadata": {},
   "outputs": [],
   "source": []
  }
 ],
 "metadata": {
  "kernelspec": {
   "display_name": "financesentimentcorpus-81pPHzJy-py3.12",
   "language": "python",
   "name": "python3"
  },
  "language_info": {
   "codemirror_mode": {
    "name": "ipython",
    "version": 3
   },
   "file_extension": ".py",
   "mimetype": "text/x-python",
   "name": "python",
   "nbconvert_exporter": "python",
   "pygments_lexer": "ipython3",
   "version": "3.12.5"
  }
 },
 "nbformat": 4,
 "nbformat_minor": 2
}
